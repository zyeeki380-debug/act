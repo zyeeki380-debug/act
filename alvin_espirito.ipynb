{
  "nbformat": 4,
  "nbformat_minor": 0,
  "metadata": {
    "colab": {
      "provenance": [],
      "authorship_tag": "ABX9TyPrUpAbBZkDBPonivVVfTBW",
      "include_colab_link": true
    },
    "kernelspec": {
      "name": "python3",
      "display_name": "Python 3"
    },
    "language_info": {
      "name": "python"
    }
  },
  "cells": [
    {
      "cell_type": "markdown",
      "metadata": {
        "id": "view-in-github",
        "colab_type": "text"
      },
      "source": [
        "<a href=\"https://colab.research.google.com/github/zyeeki380-debug/act/blob/main/alvin_espirito.ipynb\" target=\"_parent\"><img src=\"https://colab.research.google.com/assets/colab-badge.svg\" alt=\"Open In Colab\"/></a>"
      ]
    },
    {
      "cell_type": "code",
      "execution_count": null,
      "metadata": {
        "id": "6l4NPHl0YbN7"
      },
      "outputs": [],
      "source": []
    },
    {
      "cell_type": "code",
      "source": [
        "import pandas as pd"
      ],
      "metadata": {
        "id": "x2wZRmjYYsYP"
      },
      "execution_count": 1,
      "outputs": []
    },
    {
      "cell_type": "code",
      "source": [
        "df = pd.read_csv('https://raw.githubusercontent.com/zyeeki380-debug/act/refs/heads/main/mobile_game_inapp_purchases.csv')"
      ],
      "metadata": {
        "id": "13OLTYnVYsbh"
      },
      "execution_count": 2,
      "outputs": []
    },
    {
      "cell_type": "code",
      "source": [
        "print (\"Original row count\", len(df))"
      ],
      "metadata": {
        "colab": {
          "base_uri": "https://localhost:8080/"
        },
        "id": "4F1AuMRYYseU",
        "outputId": "af23786f-01a4-458d-8994-df97fc0834e2"
      },
      "execution_count": 3,
      "outputs": [
        {
          "output_type": "stream",
          "name": "stdout",
          "text": [
            "Original row count 3024\n"
          ]
        }
      ]
    },
    {
      "cell_type": "code",
      "source": [
        "print(df)"
      ],
      "metadata": {
        "colab": {
          "base_uri": "https://localhost:8080/"
        },
        "id": "M8cPbBU2YshN",
        "outputId": "c1630add-9aa8-480a-804c-185eebf1e567"
      },
      "execution_count": 4,
      "outputs": [
        {
          "output_type": "stream",
          "name": "stdout",
          "text": [
            "                                    UserID   Age  Gender      Country  \\\n",
            "0     c9889ab0-9cfc-4a75-acd9-5eab1df0015c  49.0    Male       Norway   \n",
            "1     7c9e413c-ecca-45f2-a780-2826a07952a2  15.0    Male  Switzerland   \n",
            "2     fd61e419-1a92-4f43-a8c7-135842ad328a  23.0    Male        China   \n",
            "3     bdb7f6d1-ff9a-468c-afe7-43f32a94293e  31.0    Male       Mexico   \n",
            "4     aa7eec14-4846-47b9-b879-9c98038cda04  37.0  Female        India   \n",
            "...                                    ...   ...     ...          ...   \n",
            "3019  29f9fea9-591d-4e9f-a662-958655d3eb4a  19.0  Female         Iran   \n",
            "3020  c906eb00-fb33-4bf2-97a4-311634cd0d7a  48.0    Male  Switzerland   \n",
            "3021  26e17717-ebec-42a9-aae2-2eff66888119  44.0    Male       France   \n",
            "3022  4d6e2bfb-cb11-411a-942c-4fb7a4832088  45.0    Male       Sweden   \n",
            "3023  37935b2e-9b5d-4a30-bf0f-751d105e31e3  22.0    Male        Egypt   \n",
            "\n",
            "       Device      GameGenre  SessionCount  AverageSessionLength  \\\n",
            "0     Android  Battle Royale             9                 12.83   \n",
            "1         iOS     Action RPG            11                 19.39   \n",
            "2     Android       Fighting             9                  8.87   \n",
            "3     Android         Racing            12                 19.56   \n",
            "4     Android  Battle Royale            10                 15.23   \n",
            "...       ...            ...           ...                   ...   \n",
            "3019  Android       Fighting             7                 34.81   \n",
            "3020      iOS      Adventure             9                 19.45   \n",
            "3021  Android           Card            15                 20.54   \n",
            "3022      iOS       Fighting             8                 14.48   \n",
            "3023  Android      Adventure            10                 28.54   \n",
            "\n",
            "     SpendingSegment  InAppPurchaseAmount  FirstPurchaseDaysAfterInstall  \\\n",
            "0             Minnow                11.40                           28.0   \n",
            "1             Minnow                 6.37                           18.0   \n",
            "2             Minnow                15.81                           30.0   \n",
            "3             Minnow                13.49                            9.0   \n",
            "4             Minnow                10.86                           15.0   \n",
            "...              ...                  ...                            ...   \n",
            "3019          Minnow                12.48                           16.0   \n",
            "3020          Minnow                14.77                           14.0   \n",
            "3021          Minnow                16.69                           24.0   \n",
            "3022          Minnow                17.29                           15.0   \n",
            "3023          Minnow                 4.11                           30.0   \n",
            "\n",
            "        PaymentMethod LastPurchaseDate  \n",
            "0           Apple Pay       2025-03-19  \n",
            "1          Debit Card       2025-06-08  \n",
            "2           Apple Pay       2025-06-02  \n",
            "3          Debit Card       2025-04-01  \n",
            "4              Paypal       2025-05-05  \n",
            "...               ...              ...  \n",
            "3019       Google Pay       2025-05-28  \n",
            "3020  Carrier Billing       2025-07-25  \n",
            "3021        Gift Card       2025-01-25  \n",
            "3022           Paypal       2025-05-07  \n",
            "3023  Carrier Billing       2025-07-06  \n",
            "\n",
            "[3024 rows x 13 columns]\n"
          ]
        }
      ]
    },
    {
      "cell_type": "code",
      "source": [
        "print (df[df.isnull().any(axis=1)])"
      ],
      "metadata": {
        "colab": {
          "base_uri": "https://localhost:8080/"
        },
        "id": "90gyM5PFYskE",
        "outputId": "ce32ef48-450e-475d-f628-e18135ab7f41"
      },
      "execution_count": 5,
      "outputs": [
        {
          "output_type": "stream",
          "name": "stdout",
          "text": [
            "                                    UserID   Age  Gender  Country   Device  \\\n",
            "7     fc470ea9-111f-4637-a9ff-7162d81e2ec3  34.0  Female  Denmark      iOS   \n",
            "11    a516f724-6b0f-438c-b20b-59f5f35ab06a  31.0    Male   Sweden  Android   \n",
            "29    0d4f2cd8-6cee-4133-8cb2-435a0f6d19ef   NaN  Female   Russia      iOS   \n",
            "31    2868c7dc-a4bc-4143-8256-334e29ec7458  54.0  Female      USA  Android   \n",
            "32    8b27e55c-6841-4e55-ad1d-a953319e7839  34.0  Female      NaN  Android   \n",
            "...                                    ...   ...     ...      ...      ...   \n",
            "2993  e0b23a7f-bc04-41d2-8888-97b17eba2290   NaN  Female   Mexico  Android   \n",
            "2999  85beccb4-3c7e-44bb-aa38-632c335c0bc6   NaN    Male   Canada  Android   \n",
            "3011  c9f7ba9c-65db-462e-99f0-760eee9b729b  51.0    Male   Sweden      iOS   \n",
            "3012  efd47f71-4363-483f-89ba-d87e277a3c2e  35.0    Male  Germany      iOS   \n",
            "3018  8c19377e-ac67-4592-bb9a-ab6eff586782  17.0    Male   Canada      iOS   \n",
            "\n",
            "         GameGenre  SessionCount  AverageSessionLength SpendingSegment  \\\n",
            "7              NaN            15                  5.06          Minnow   \n",
            "11      Simulation            10                 31.10         Dolphin   \n",
            "29         Sandbox            15                  8.90          Minnow   \n",
            "31         Sandbox            13                 21.86          Minnow   \n",
            "32            Card            11                 17.72          Minnow   \n",
            "...            ...           ...                   ...             ...   \n",
            "2993    Simulation             9                 23.09          Minnow   \n",
            "2999        MMORPG             9                 32.72          Minnow   \n",
            "3011           NaN             7                 23.47          Minnow   \n",
            "3012  Role Playing            11                 23.41          Minnow   \n",
            "3018       Sandbox            14                  9.83          Minnow   \n",
            "\n",
            "      InAppPurchaseAmount  FirstPurchaseDaysAfterInstall PaymentMethod  \\\n",
            "7                   19.17                           30.0     Gift Card   \n",
            "11                    NaN                            NaN           NaN   \n",
            "29                   6.24                           13.0    Google Pay   \n",
            "31                    NaN                            NaN           NaN   \n",
            "32                   9.63                           26.0    Google Pay   \n",
            "...                   ...                            ...           ...   \n",
            "2993                 3.25                            1.0        Paypal   \n",
            "2999                 1.74                            0.0        Paypal   \n",
            "3011                15.62                           13.0     Apple Pay   \n",
            "3012                  NaN                            NaN           NaN   \n",
            "3018                  NaN                            NaN           NaN   \n",
            "\n",
            "     LastPurchaseDate  \n",
            "7          2025-04-26  \n",
            "11                NaN  \n",
            "29         2025-04-09  \n",
            "31                NaN  \n",
            "32         2025-04-27  \n",
            "...               ...  \n",
            "2993       2025-04-14  \n",
            "2999       2025-06-21  \n",
            "3011       2025-05-04  \n",
            "3012              NaN  \n",
            "3018              NaN  \n",
            "\n",
            "[412 rows x 13 columns]\n"
          ]
        }
      ]
    },
    {
      "cell_type": "code",
      "source": [
        "df.fillna(0, inplace=True)"
      ],
      "metadata": {
        "id": "fF3T4T7qYsm8"
      },
      "execution_count": 7,
      "outputs": []
    },
    {
      "cell_type": "code",
      "source": [
        "df[\"UserID\"] = df[\"UserID\"].fillna(df[\"UserID\"].mode()[0])"
      ],
      "metadata": {
        "id": "u-9ma8NAYsp0"
      },
      "execution_count": 17,
      "outputs": []
    },
    {
      "cell_type": "code",
      "source": [
        "df[\"UserID\"] = pd.to_numeric(df[\"UserID\"], errors = 'coerce')"
      ],
      "metadata": {
        "id": "AbZi0pklYsu9"
      },
      "execution_count": 19,
      "outputs": []
    },
    {
      "cell_type": "code",
      "source": [
        "print(df)"
      ],
      "metadata": {
        "colab": {
          "base_uri": "https://localhost:8080/"
        },
        "id": "eZ-e6aHjYsx8",
        "outputId": "d5a87261-ff61-4b3a-c5a9-f56e781df93a"
      },
      "execution_count": 20,
      "outputs": [
        {
          "output_type": "stream",
          "name": "stdout",
          "text": [
            "      UserID   Age  Gender      Country   Device      GameGenre  SessionCount  \\\n",
            "0        NaN  49.0    Male       Norway  Android  Battle Royale             9   \n",
            "1        NaN  15.0    Male  Switzerland      iOS     Action RPG            11   \n",
            "2        NaN  23.0    Male        China  Android       Fighting             9   \n",
            "3        NaN  31.0    Male       Mexico  Android         Racing            12   \n",
            "4        NaN  37.0  Female        India  Android  Battle Royale            10   \n",
            "...      ...   ...     ...          ...      ...            ...           ...   \n",
            "3019     NaN  19.0  Female         Iran  Android       Fighting             7   \n",
            "3020     NaN  48.0    Male  Switzerland      iOS      Adventure             9   \n",
            "3021     NaN  44.0    Male       France  Android           Card            15   \n",
            "3022     NaN  45.0    Male       Sweden      iOS       Fighting             8   \n",
            "3023     NaN  22.0    Male        Egypt  Android      Adventure            10   \n",
            "\n",
            "      AverageSessionLength SpendingSegment  InAppPurchaseAmount  \\\n",
            "0                    12.83          Minnow                11.40   \n",
            "1                    19.39          Minnow                 6.37   \n",
            "2                     8.87          Minnow                15.81   \n",
            "3                    19.56          Minnow                13.49   \n",
            "4                    15.23          Minnow                10.86   \n",
            "...                    ...             ...                  ...   \n",
            "3019                 34.81          Minnow                12.48   \n",
            "3020                 19.45          Minnow                14.77   \n",
            "3021                 20.54          Minnow                16.69   \n",
            "3022                 14.48          Minnow                17.29   \n",
            "3023                 28.54          Minnow                 4.11   \n",
            "\n",
            "      FirstPurchaseDaysAfterInstall    PaymentMethod LastPurchaseDate  \n",
            "0                              28.0        Apple Pay       2025-03-19  \n",
            "1                              18.0       Debit Card       2025-06-08  \n",
            "2                              30.0        Apple Pay       2025-06-02  \n",
            "3                               9.0       Debit Card       2025-04-01  \n",
            "4                              15.0           Paypal       2025-05-05  \n",
            "...                             ...              ...              ...  \n",
            "3019                           16.0       Google Pay       2025-05-28  \n",
            "3020                           14.0  Carrier Billing       2025-07-25  \n",
            "3021                           24.0        Gift Card       2025-01-25  \n",
            "3022                           15.0           Paypal       2025-05-07  \n",
            "3023                           30.0  Carrier Billing       2025-07-06  \n",
            "\n",
            "[3024 rows x 13 columns]\n"
          ]
        }
      ]
    },
    {
      "cell_type": "code",
      "source": [
        "print (df[df.isnull().any(axis=1)])"
      ],
      "metadata": {
        "colab": {
          "base_uri": "https://localhost:8080/"
        },
        "id": "XrgfQMWmYs01",
        "outputId": "6ccb5646-7729-41b7-c4b6-abb17eae8d0d"
      },
      "execution_count": 21,
      "outputs": [
        {
          "output_type": "stream",
          "name": "stdout",
          "text": [
            "      UserID   Age  Gender      Country   Device      GameGenre  SessionCount  \\\n",
            "0        NaN  49.0    Male       Norway  Android  Battle Royale             9   \n",
            "1        NaN  15.0    Male  Switzerland      iOS     Action RPG            11   \n",
            "2        NaN  23.0    Male        China  Android       Fighting             9   \n",
            "3        NaN  31.0    Male       Mexico  Android         Racing            12   \n",
            "4        NaN  37.0  Female        India  Android  Battle Royale            10   \n",
            "...      ...   ...     ...          ...      ...            ...           ...   \n",
            "3019     NaN  19.0  Female         Iran  Android       Fighting             7   \n",
            "3020     NaN  48.0    Male  Switzerland      iOS      Adventure             9   \n",
            "3021     NaN  44.0    Male       France  Android           Card            15   \n",
            "3022     NaN  45.0    Male       Sweden      iOS       Fighting             8   \n",
            "3023     NaN  22.0    Male        Egypt  Android      Adventure            10   \n",
            "\n",
            "      AverageSessionLength SpendingSegment  InAppPurchaseAmount  \\\n",
            "0                    12.83          Minnow                11.40   \n",
            "1                    19.39          Minnow                 6.37   \n",
            "2                     8.87          Minnow                15.81   \n",
            "3                    19.56          Minnow                13.49   \n",
            "4                    15.23          Minnow                10.86   \n",
            "...                    ...             ...                  ...   \n",
            "3019                 34.81          Minnow                12.48   \n",
            "3020                 19.45          Minnow                14.77   \n",
            "3021                 20.54          Minnow                16.69   \n",
            "3022                 14.48          Minnow                17.29   \n",
            "3023                 28.54          Minnow                 4.11   \n",
            "\n",
            "      FirstPurchaseDaysAfterInstall    PaymentMethod LastPurchaseDate  \n",
            "0                              28.0        Apple Pay       2025-03-19  \n",
            "1                              18.0       Debit Card       2025-06-08  \n",
            "2                              30.0        Apple Pay       2025-06-02  \n",
            "3                               9.0       Debit Card       2025-04-01  \n",
            "4                              15.0           Paypal       2025-05-05  \n",
            "...                             ...              ...              ...  \n",
            "3019                           16.0       Google Pay       2025-05-28  \n",
            "3020                           14.0  Carrier Billing       2025-07-25  \n",
            "3021                           24.0        Gift Card       2025-01-25  \n",
            "3022                           15.0           Paypal       2025-05-07  \n",
            "3023                           30.0  Carrier Billing       2025-07-06  \n",
            "\n",
            "[3024 rows x 13 columns]\n"
          ]
        }
      ]
    },
    {
      "cell_type": "code",
      "source": [
        "print(df)"
      ],
      "metadata": {
        "colab": {
          "base_uri": "https://localhost:8080/"
        },
        "id": "B9H3RvX_Ys30",
        "outputId": "57198dab-8da1-46b7-afe4-c5f74730e728"
      },
      "execution_count": 22,
      "outputs": [
        {
          "output_type": "stream",
          "name": "stdout",
          "text": [
            "      UserID   Age  Gender      Country   Device      GameGenre  SessionCount  \\\n",
            "0        NaN  49.0    Male       Norway  Android  Battle Royale             9   \n",
            "1        NaN  15.0    Male  Switzerland      iOS     Action RPG            11   \n",
            "2        NaN  23.0    Male        China  Android       Fighting             9   \n",
            "3        NaN  31.0    Male       Mexico  Android         Racing            12   \n",
            "4        NaN  37.0  Female        India  Android  Battle Royale            10   \n",
            "...      ...   ...     ...          ...      ...            ...           ...   \n",
            "3019     NaN  19.0  Female         Iran  Android       Fighting             7   \n",
            "3020     NaN  48.0    Male  Switzerland      iOS      Adventure             9   \n",
            "3021     NaN  44.0    Male       France  Android           Card            15   \n",
            "3022     NaN  45.0    Male       Sweden      iOS       Fighting             8   \n",
            "3023     NaN  22.0    Male        Egypt  Android      Adventure            10   \n",
            "\n",
            "      AverageSessionLength SpendingSegment  InAppPurchaseAmount  \\\n",
            "0                    12.83          Minnow                11.40   \n",
            "1                    19.39          Minnow                 6.37   \n",
            "2                     8.87          Minnow                15.81   \n",
            "3                    19.56          Minnow                13.49   \n",
            "4                    15.23          Minnow                10.86   \n",
            "...                    ...             ...                  ...   \n",
            "3019                 34.81          Minnow                12.48   \n",
            "3020                 19.45          Minnow                14.77   \n",
            "3021                 20.54          Minnow                16.69   \n",
            "3022                 14.48          Minnow                17.29   \n",
            "3023                 28.54          Minnow                 4.11   \n",
            "\n",
            "      FirstPurchaseDaysAfterInstall    PaymentMethod LastPurchaseDate  \n",
            "0                              28.0        Apple Pay       2025-03-19  \n",
            "1                              18.0       Debit Card       2025-06-08  \n",
            "2                              30.0        Apple Pay       2025-06-02  \n",
            "3                               9.0       Debit Card       2025-04-01  \n",
            "4                              15.0           Paypal       2025-05-05  \n",
            "...                             ...              ...              ...  \n",
            "3019                           16.0       Google Pay       2025-05-28  \n",
            "3020                           14.0  Carrier Billing       2025-07-25  \n",
            "3021                           24.0        Gift Card       2025-01-25  \n",
            "3022                           15.0           Paypal       2025-05-07  \n",
            "3023                           30.0  Carrier Billing       2025-07-06  \n",
            "\n",
            "[3024 rows x 13 columns]\n"
          ]
        }
      ]
    }
  ]
}