{
  "nbformat": 4,
  "nbformat_minor": 0,
  "metadata": {
    "colab": {
      "provenance": [],
      "authorship_tag": "ABX9TyOohJqVEdsULrb4Ah915phc",
      "include_colab_link": true
    },
    "kernelspec": {
      "name": "python3",
      "display_name": "Python 3"
    },
    "language_info": {
      "name": "python"
    }
  },
  "cells": [
    {
      "cell_type": "markdown",
      "metadata": {
        "id": "view-in-github",
        "colab_type": "text"
      },
      "source": [
        "<a href=\"https://colab.research.google.com/github/zyeeki380-debug/act/blob/main/renz_galinato.ipynb\" target=\"_parent\"><img src=\"https://colab.research.google.com/assets/colab-badge.svg\" alt=\"Open In Colab\"/></a>"
      ]
    },
    {
      "cell_type": "code",
      "execution_count": 2,
      "metadata": {
        "id": "YtOIJYMgb0yC"
      },
      "outputs": [],
      "source": [
        "import pandas as pd"
      ]
    },
    {
      "cell_type": "code",
      "source": [
        "df = pd.read_csv('https://raw.githubusercontent.com/zyeeki380-debug/act/refs/heads/main/Automobile_data.csv')"
      ],
      "metadata": {
        "id": "G6-gRNQvb7rV"
      },
      "execution_count": 3,
      "outputs": []
    },
    {
      "cell_type": "code",
      "source": [
        "print (\"Original row count\", len(df))"
      ],
      "metadata": {
        "colab": {
          "base_uri": "https://localhost:8080/"
        },
        "id": "87ii1qeOb7ub",
        "outputId": "79077efb-fbfe-4edd-9212-f23084d18198"
      },
      "execution_count": 4,
      "outputs": [
        {
          "output_type": "stream",
          "name": "stdout",
          "text": [
            "Original row count 205\n"
          ]
        }
      ]
    },
    {
      "cell_type": "code",
      "source": [
        "print(df)"
      ],
      "metadata": {
        "colab": {
          "base_uri": "https://localhost:8080/"
        },
        "id": "7OmCadAEb7xL",
        "outputId": "9f15de06-832f-472e-dbcc-3a8b090f0910"
      },
      "execution_count": 5,
      "outputs": [
        {
          "output_type": "stream",
          "name": "stdout",
          "text": [
            "     symboling normalized-losses         make fuel-type aspiration  \\\n",
            "0            3                 ?  alfa-romero       gas        std   \n",
            "1            3                 ?  alfa-romero       gas        std   \n",
            "2            1                 ?  alfa-romero       gas        std   \n",
            "3            2               164         audi       gas        std   \n",
            "4            2               164         audi       gas        std   \n",
            "..         ...               ...          ...       ...        ...   \n",
            "200         -1                95        volvo       gas        std   \n",
            "201         -1                95        volvo       gas      turbo   \n",
            "202         -1                95        volvo       gas        std   \n",
            "203         -1                95        volvo    diesel      turbo   \n",
            "204         -1                95        volvo       gas      turbo   \n",
            "\n",
            "    num-of-doors   body-style drive-wheels engine-location  wheel-base  ...  \\\n",
            "0            two  convertible          rwd           front        88.6  ...   \n",
            "1            two  convertible          rwd           front        88.6  ...   \n",
            "2            two    hatchback          rwd           front        94.5  ...   \n",
            "3           four        sedan          fwd           front        99.8  ...   \n",
            "4           four        sedan          4wd           front        99.4  ...   \n",
            "..           ...          ...          ...             ...         ...  ...   \n",
            "200         four        sedan          rwd           front       109.1  ...   \n",
            "201         four        sedan          rwd           front       109.1  ...   \n",
            "202         four        sedan          rwd           front       109.1  ...   \n",
            "203         four        sedan          rwd           front       109.1  ...   \n",
            "204         four        sedan          rwd           front       109.1  ...   \n",
            "\n",
            "     engine-size  fuel-system  bore  stroke compression-ratio horsepower  \\\n",
            "0            130         mpfi  3.47    2.68               9.0        111   \n",
            "1            130         mpfi  3.47    2.68               9.0        111   \n",
            "2            152         mpfi  2.68    3.47               9.0        154   \n",
            "3            109         mpfi  3.19     3.4              10.0        102   \n",
            "4            136         mpfi  3.19     3.4               8.0        115   \n",
            "..           ...          ...   ...     ...               ...        ...   \n",
            "200          141         mpfi  3.78    3.15               9.5        114   \n",
            "201          141         mpfi  3.78    3.15               8.7        160   \n",
            "202          173         mpfi  3.58    2.87               8.8        134   \n",
            "203          145          idi  3.01     3.4              23.0        106   \n",
            "204          141         mpfi  3.78    3.15               9.5        114   \n",
            "\n",
            "     peak-rpm city-mpg highway-mpg  price  \n",
            "0        5000       21          27  13495  \n",
            "1        5000       21          27  16500  \n",
            "2        5000       19          26  16500  \n",
            "3        5500       24          30  13950  \n",
            "4        5500       18          22  17450  \n",
            "..        ...      ...         ...    ...  \n",
            "200      5400       23          28  16845  \n",
            "201      5300       19          25  19045  \n",
            "202      5500       18          23  21485  \n",
            "203      4800       26          27  22470  \n",
            "204      5400       19          25  22625  \n",
            "\n",
            "[205 rows x 26 columns]\n"
          ]
        }
      ]
    },
    {
      "cell_type": "code",
      "source": [
        "print (df[df.isnull().any(axis=1)])"
      ],
      "metadata": {
        "colab": {
          "base_uri": "https://localhost:8080/"
        },
        "id": "9TE9Vp47b7z8",
        "outputId": "4e50af61-bb8f-4819-893a-16c133af4ec4"
      },
      "execution_count": 6,
      "outputs": [
        {
          "output_type": "stream",
          "name": "stdout",
          "text": [
            "Empty DataFrame\n",
            "Columns: [symboling, normalized-losses, make, fuel-type, aspiration, num-of-doors, body-style, drive-wheels, engine-location, wheel-base, length, width, height, curb-weight, engine-type, num-of-cylinders, engine-size, fuel-system, bore, stroke, compression-ratio, horsepower, peak-rpm, city-mpg, highway-mpg, price]\n",
            "Index: []\n",
            "\n",
            "[0 rows x 26 columns]\n"
          ]
        }
      ]
    },
    {
      "cell_type": "code",
      "source": [
        "df.fillna(0, inplace=True)"
      ],
      "metadata": {
        "id": "5Tek2B7Bb75L"
      },
      "execution_count": 7,
      "outputs": []
    },
    {
      "cell_type": "code",
      "source": [
        "df[\"stroke\"] = df[\"stroke\"].fillna(df[\"stroke\"].mode()[0])"
      ],
      "metadata": {
        "id": "4zIM_gbub78b"
      },
      "execution_count": 8,
      "outputs": []
    },
    {
      "cell_type": "code",
      "source": [
        "df[\"stroke\"] = pd.to_numeric(df[\"stroke\"], errors = 'coerce')"
      ],
      "metadata": {
        "id": "woSje76fb7_T"
      },
      "execution_count": 9,
      "outputs": []
    },
    {
      "cell_type": "code",
      "source": [
        "print(df)"
      ],
      "metadata": {
        "colab": {
          "base_uri": "https://localhost:8080/"
        },
        "id": "s_JA4FWib8CT",
        "outputId": "cd4c2dbf-2ba7-48ea-9080-b1b5cf039601"
      },
      "execution_count": 10,
      "outputs": [
        {
          "output_type": "stream",
          "name": "stdout",
          "text": [
            "     symboling normalized-losses         make fuel-type aspiration  \\\n",
            "0            3                 ?  alfa-romero       gas        std   \n",
            "1            3                 ?  alfa-romero       gas        std   \n",
            "2            1                 ?  alfa-romero       gas        std   \n",
            "3            2               164         audi       gas        std   \n",
            "4            2               164         audi       gas        std   \n",
            "..         ...               ...          ...       ...        ...   \n",
            "200         -1                95        volvo       gas        std   \n",
            "201         -1                95        volvo       gas      turbo   \n",
            "202         -1                95        volvo       gas        std   \n",
            "203         -1                95        volvo    diesel      turbo   \n",
            "204         -1                95        volvo       gas      turbo   \n",
            "\n",
            "    num-of-doors   body-style drive-wheels engine-location  wheel-base  ...  \\\n",
            "0            two  convertible          rwd           front        88.6  ...   \n",
            "1            two  convertible          rwd           front        88.6  ...   \n",
            "2            two    hatchback          rwd           front        94.5  ...   \n",
            "3           four        sedan          fwd           front        99.8  ...   \n",
            "4           four        sedan          4wd           front        99.4  ...   \n",
            "..           ...          ...          ...             ...         ...  ...   \n",
            "200         four        sedan          rwd           front       109.1  ...   \n",
            "201         four        sedan          rwd           front       109.1  ...   \n",
            "202         four        sedan          rwd           front       109.1  ...   \n",
            "203         four        sedan          rwd           front       109.1  ...   \n",
            "204         four        sedan          rwd           front       109.1  ...   \n",
            "\n",
            "     engine-size  fuel-system  bore  stroke compression-ratio horsepower  \\\n",
            "0            130         mpfi  3.47    2.68               9.0        111   \n",
            "1            130         mpfi  3.47    2.68               9.0        111   \n",
            "2            152         mpfi  2.68    3.47               9.0        154   \n",
            "3            109         mpfi  3.19    3.40              10.0        102   \n",
            "4            136         mpfi  3.19    3.40               8.0        115   \n",
            "..           ...          ...   ...     ...               ...        ...   \n",
            "200          141         mpfi  3.78    3.15               9.5        114   \n",
            "201          141         mpfi  3.78    3.15               8.7        160   \n",
            "202          173         mpfi  3.58    2.87               8.8        134   \n",
            "203          145          idi  3.01    3.40              23.0        106   \n",
            "204          141         mpfi  3.78    3.15               9.5        114   \n",
            "\n",
            "     peak-rpm city-mpg highway-mpg  price  \n",
            "0        5000       21          27  13495  \n",
            "1        5000       21          27  16500  \n",
            "2        5000       19          26  16500  \n",
            "3        5500       24          30  13950  \n",
            "4        5500       18          22  17450  \n",
            "..        ...      ...         ...    ...  \n",
            "200      5400       23          28  16845  \n",
            "201      5300       19          25  19045  \n",
            "202      5500       18          23  21485  \n",
            "203      4800       26          27  22470  \n",
            "204      5400       19          25  22625  \n",
            "\n",
            "[205 rows x 26 columns]\n"
          ]
        }
      ]
    },
    {
      "cell_type": "code",
      "source": [
        "print (df[df.isnull().any(axis=1)])"
      ],
      "metadata": {
        "colab": {
          "base_uri": "https://localhost:8080/"
        },
        "id": "R-2cFg_2ce25",
        "outputId": "69be7563-19fd-45d0-af86-c37afcd70db0"
      },
      "execution_count": 11,
      "outputs": [
        {
          "output_type": "stream",
          "name": "stdout",
          "text": [
            "    symboling normalized-losses   make fuel-type aspiration num-of-doors  \\\n",
            "55          3               150  mazda       gas        std          two   \n",
            "56          3               150  mazda       gas        std          two   \n",
            "57          3               150  mazda       gas        std          two   \n",
            "58          3               150  mazda       gas        std          two   \n",
            "\n",
            "   body-style drive-wheels engine-location  wheel-base  ...  engine-size  \\\n",
            "55  hatchback          rwd           front        95.3  ...           70   \n",
            "56  hatchback          rwd           front        95.3  ...           70   \n",
            "57  hatchback          rwd           front        95.3  ...           70   \n",
            "58  hatchback          rwd           front        95.3  ...           80   \n",
            "\n",
            "    fuel-system  bore  stroke compression-ratio horsepower  peak-rpm city-mpg  \\\n",
            "55         4bbl     ?     NaN               9.4        101      6000       17   \n",
            "56         4bbl     ?     NaN               9.4        101      6000       17   \n",
            "57         4bbl     ?     NaN               9.4        101      6000       17   \n",
            "58         mpfi     ?     NaN               9.4        135      6000       16   \n",
            "\n",
            "   highway-mpg  price  \n",
            "55          23  10945  \n",
            "56          23  11845  \n",
            "57          23  13645  \n",
            "58          23  15645  \n",
            "\n",
            "[4 rows x 26 columns]\n"
          ]
        }
      ]
    },
    {
      "cell_type": "code",
      "source": [
        "print(df)"
      ],
      "metadata": {
        "colab": {
          "base_uri": "https://localhost:8080/"
        },
        "id": "Le6fv69dce-v",
        "outputId": "dd9586a6-b636-4141-ba20-495eaa3f29c0"
      },
      "execution_count": 12,
      "outputs": [
        {
          "output_type": "stream",
          "name": "stdout",
          "text": [
            "     symboling normalized-losses         make fuel-type aspiration  \\\n",
            "0            3                 ?  alfa-romero       gas        std   \n",
            "1            3                 ?  alfa-romero       gas        std   \n",
            "2            1                 ?  alfa-romero       gas        std   \n",
            "3            2               164         audi       gas        std   \n",
            "4            2               164         audi       gas        std   \n",
            "..         ...               ...          ...       ...        ...   \n",
            "200         -1                95        volvo       gas        std   \n",
            "201         -1                95        volvo       gas      turbo   \n",
            "202         -1                95        volvo       gas        std   \n",
            "203         -1                95        volvo    diesel      turbo   \n",
            "204         -1                95        volvo       gas      turbo   \n",
            "\n",
            "    num-of-doors   body-style drive-wheels engine-location  wheel-base  ...  \\\n",
            "0            two  convertible          rwd           front        88.6  ...   \n",
            "1            two  convertible          rwd           front        88.6  ...   \n",
            "2            two    hatchback          rwd           front        94.5  ...   \n",
            "3           four        sedan          fwd           front        99.8  ...   \n",
            "4           four        sedan          4wd           front        99.4  ...   \n",
            "..           ...          ...          ...             ...         ...  ...   \n",
            "200         four        sedan          rwd           front       109.1  ...   \n",
            "201         four        sedan          rwd           front       109.1  ...   \n",
            "202         four        sedan          rwd           front       109.1  ...   \n",
            "203         four        sedan          rwd           front       109.1  ...   \n",
            "204         four        sedan          rwd           front       109.1  ...   \n",
            "\n",
            "     engine-size  fuel-system  bore  stroke compression-ratio horsepower  \\\n",
            "0            130         mpfi  3.47    2.68               9.0        111   \n",
            "1            130         mpfi  3.47    2.68               9.0        111   \n",
            "2            152         mpfi  2.68    3.47               9.0        154   \n",
            "3            109         mpfi  3.19    3.40              10.0        102   \n",
            "4            136         mpfi  3.19    3.40               8.0        115   \n",
            "..           ...          ...   ...     ...               ...        ...   \n",
            "200          141         mpfi  3.78    3.15               9.5        114   \n",
            "201          141         mpfi  3.78    3.15               8.7        160   \n",
            "202          173         mpfi  3.58    2.87               8.8        134   \n",
            "203          145          idi  3.01    3.40              23.0        106   \n",
            "204          141         mpfi  3.78    3.15               9.5        114   \n",
            "\n",
            "     peak-rpm city-mpg highway-mpg  price  \n",
            "0        5000       21          27  13495  \n",
            "1        5000       21          27  16500  \n",
            "2        5000       19          26  16500  \n",
            "3        5500       24          30  13950  \n",
            "4        5500       18          22  17450  \n",
            "..        ...      ...         ...    ...  \n",
            "200      5400       23          28  16845  \n",
            "201      5300       19          25  19045  \n",
            "202      5500       18          23  21485  \n",
            "203      4800       26          27  22470  \n",
            "204      5400       19          25  22625  \n",
            "\n",
            "[205 rows x 26 columns]\n"
          ]
        }
      ]
    }
  ]
}