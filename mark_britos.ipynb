{
  "nbformat": 4,
  "nbformat_minor": 0,
  "metadata": {
    "colab": {
      "provenance": [],
      "authorship_tag": "ABX9TyOHYQQDddxEpzo3y8XWSwGr",
      "include_colab_link": true
    },
    "kernelspec": {
      "name": "python3",
      "display_name": "Python 3"
    },
    "language_info": {
      "name": "python"
    }
  },
  "cells": [
    {
      "cell_type": "markdown",
      "metadata": {
        "id": "view-in-github",
        "colab_type": "text"
      },
      "source": [
        "<a href=\"https://colab.research.google.com/github/zyeeki380-debug/act/blob/main/mark_britos.ipynb\" target=\"_parent\"><img src=\"https://colab.research.google.com/assets/colab-badge.svg\" alt=\"Open In Colab\"/></a>"
      ]
    },
    {
      "cell_type": "code",
      "execution_count": 1,
      "metadata": {
        "id": "It7yZAMAQ6St"
      },
      "outputs": [],
      "source": [
        "import pandas as pd"
      ]
    },
    {
      "cell_type": "code",
      "source": [
        "df = pd.read_csv('https://raw.githubusercontent.com/zyeeki380-debug/act/refs/heads/main/Coffe_sales.csv')"
      ],
      "metadata": {
        "id": "KCGtW_TQQ96S"
      },
      "execution_count": 2,
      "outputs": []
    },
    {
      "cell_type": "code",
      "source": [
        "print (\"Original row count\", len(df))"
      ],
      "metadata": {
        "id": "oXHbYZLPQ-CS"
      },
      "execution_count": null,
      "outputs": []
    },
    {
      "cell_type": "code",
      "source": [
        "print(df)"
      ],
      "metadata": {
        "colab": {
          "base_uri": "https://localhost:8080/"
        },
        "id": "1PJ3coOTQ-Gb",
        "outputId": "e9e6bfab-8ef7-499e-cd8f-78fe1d0bfd7c"
      },
      "execution_count": 4,
      "outputs": [
        {
          "output_type": "stream",
          "name": "stdout",
          "text": [
            "      hour_of_day cash_type  money    coffee_name Time_of_Day Weekday  \\\n",
            "0              10      card  38.70          Latte     Morning     Fri   \n",
            "1              12      card  38.70  Hot Chocolate   Afternoon     Fri   \n",
            "2              12      card  38.70  Hot Chocolate   Afternoon     Fri   \n",
            "3              13      card  28.90      Americano   Afternoon     Fri   \n",
            "4              13      card  38.70          Latte   Afternoon     Fri   \n",
            "...           ...       ...    ...            ...         ...     ...   \n",
            "3542           10      card  35.76     Cappuccino     Morning     Sun   \n",
            "3543           14      card  35.76          Cocoa   Afternoon     Sun   \n",
            "3544           14      card  35.76          Cocoa   Afternoon     Sun   \n",
            "3545           15      card  25.96      Americano   Afternoon     Sun   \n",
            "3546           18      card  35.76          Latte       Night     Sun   \n",
            "\n",
            "     Month_name  Weekdaysort  Monthsort        Date             Time  \n",
            "0           Mar            5          3  2024-03-01  10:15:50.520000  \n",
            "1           Mar            5          3  2024-03-01  12:19:22.539000  \n",
            "2           Mar            5          3  2024-03-01  12:20:18.089000  \n",
            "3           Mar            5          3  2024-03-01  13:46:33.006000  \n",
            "4           Mar            5          3  2024-03-01  13:48:14.626000  \n",
            "...         ...          ...        ...         ...              ...  \n",
            "3542        Mar            7          3  2025-03-23  10:34:54.894000  \n",
            "3543        Mar            7          3  2025-03-23  14:43:37.362000  \n",
            "3544        Mar            7          3  2025-03-23  14:44:16.864000  \n",
            "3545        Mar            7          3  2025-03-23  15:47:28.723000  \n",
            "3546        Mar            7          3  2025-03-23  18:11:38.635000  \n",
            "\n",
            "[3547 rows x 11 columns]\n"
          ]
        }
      ]
    },
    {
      "cell_type": "code",
      "source": [
        "print (df[df.isnull().any(axis=1)])"
      ],
      "metadata": {
        "colab": {
          "base_uri": "https://localhost:8080/"
        },
        "id": "geIr3vB7Q-KE",
        "outputId": "9cbd8f3a-94bf-46db-e17b-4afcdb8d40ff"
      },
      "execution_count": 3,
      "outputs": [
        {
          "output_type": "stream",
          "name": "stdout",
          "text": [
            "Empty DataFrame\n",
            "Columns: [hour_of_day, cash_type, money, coffee_name, Time_of_Day, Weekday, Month_name, Weekdaysort, Monthsort, Date, Time]\n",
            "Index: []\n"
          ]
        }
      ]
    },
    {
      "cell_type": "code",
      "source": [
        "print(df.isnull().sum())"
      ],
      "metadata": {
        "colab": {
          "base_uri": "https://localhost:8080/"
        },
        "id": "W1csMNRWQ-NC",
        "outputId": "9b312ff7-b84e-4391-c64c-5c373f46586e"
      },
      "execution_count": 5,
      "outputs": [
        {
          "output_type": "stream",
          "name": "stdout",
          "text": [
            "hour_of_day    0\n",
            "cash_type      0\n",
            "money          0\n",
            "coffee_name    0\n",
            "Time_of_Day    0\n",
            "Weekday        0\n",
            "Month_name     0\n",
            "Weekdaysort    0\n",
            "Monthsort      0\n",
            "Date           0\n",
            "Time           0\n",
            "dtype: int64\n"
          ]
        }
      ]
    },
    {
      "cell_type": "code",
      "source": [
        "df.fillna(0, inplace=True)"
      ],
      "metadata": {
        "id": "1NuPClq0Q8Z0"
      },
      "execution_count": 6,
      "outputs": []
    },
    {
      "cell_type": "code",
      "source": [
        "df[\"money\"] = df[\"money\"].fillna(df[\"money\"].mode()[0])"
      ],
      "metadata": {
        "id": "7T_gXaEaUbtp"
      },
      "execution_count": 7,
      "outputs": []
    },
    {
      "cell_type": "code",
      "source": [
        "from sre_constants import error\n",
        "df[\"money\"] = pd.to_numeric(df[\"money\"], errors = 'coerce')"
      ],
      "metadata": {
        "id": "6q2mgWp4Ub2W"
      },
      "execution_count": 9,
      "outputs": []
    },
    {
      "cell_type": "code",
      "source": [
        "print(df)"
      ],
      "metadata": {
        "colab": {
          "base_uri": "https://localhost:8080/"
        },
        "id": "DBTS_TAHUb--",
        "outputId": "bb50784d-2cc5-4b6e-de23-7431376e7367"
      },
      "execution_count": 11,
      "outputs": [
        {
          "output_type": "stream",
          "name": "stdout",
          "text": [
            "      hour_of_day cash_type  money    coffee_name Time_of_Day Weekday  \\\n",
            "0              10      card  38.70          Latte     Morning     Fri   \n",
            "1              12      card  38.70  Hot Chocolate   Afternoon     Fri   \n",
            "2              12      card  38.70  Hot Chocolate   Afternoon     Fri   \n",
            "3              13      card  28.90      Americano   Afternoon     Fri   \n",
            "4              13      card  38.70          Latte   Afternoon     Fri   \n",
            "...           ...       ...    ...            ...         ...     ...   \n",
            "3542           10      card  35.76     Cappuccino     Morning     Sun   \n",
            "3543           14      card  35.76          Cocoa   Afternoon     Sun   \n",
            "3544           14      card  35.76          Cocoa   Afternoon     Sun   \n",
            "3545           15      card  25.96      Americano   Afternoon     Sun   \n",
            "3546           18      card  35.76          Latte       Night     Sun   \n",
            "\n",
            "     Month_name  Weekdaysort  Monthsort        Date             Time  \n",
            "0           Mar            5          3  2024-03-01  10:15:50.520000  \n",
            "1           Mar            5          3  2024-03-01  12:19:22.539000  \n",
            "2           Mar            5          3  2024-03-01  12:20:18.089000  \n",
            "3           Mar            5          3  2024-03-01  13:46:33.006000  \n",
            "4           Mar            5          3  2024-03-01  13:48:14.626000  \n",
            "...         ...          ...        ...         ...              ...  \n",
            "3542        Mar            7          3  2025-03-23  10:34:54.894000  \n",
            "3543        Mar            7          3  2025-03-23  14:43:37.362000  \n",
            "3544        Mar            7          3  2025-03-23  14:44:16.864000  \n",
            "3545        Mar            7          3  2025-03-23  15:47:28.723000  \n",
            "3546        Mar            7          3  2025-03-23  18:11:38.635000  \n",
            "\n",
            "[3547 rows x 11 columns]\n"
          ]
        }
      ]
    },
    {
      "cell_type": "code",
      "source": [
        "print (df[df.isnull().any(axis=1)])"
      ],
      "metadata": {
        "colab": {
          "base_uri": "https://localhost:8080/"
        },
        "id": "wiys_FXLUcFp",
        "outputId": "2718628f-8715-43dc-9683-a2082dcb5fac"
      },
      "execution_count": 10,
      "outputs": [
        {
          "output_type": "stream",
          "name": "stdout",
          "text": [
            "Empty DataFrame\n",
            "Columns: [hour_of_day, cash_type, money, coffee_name, Time_of_Day, Weekday, Month_name, Weekdaysort, Monthsort, Date, Time]\n",
            "Index: []\n"
          ]
        }
      ]
    },
    {
      "cell_type": "code",
      "source": [
        "print(df)"
      ],
      "metadata": {
        "colab": {
          "base_uri": "https://localhost:8080/"
        },
        "id": "FcGszqUaX2KH",
        "outputId": "4c2ffc11-d1f9-4694-d084-84dd597431e8"
      },
      "execution_count": 12,
      "outputs": [
        {
          "output_type": "stream",
          "name": "stdout",
          "text": [
            "      hour_of_day cash_type  money    coffee_name Time_of_Day Weekday  \\\n",
            "0              10      card  38.70          Latte     Morning     Fri   \n",
            "1              12      card  38.70  Hot Chocolate   Afternoon     Fri   \n",
            "2              12      card  38.70  Hot Chocolate   Afternoon     Fri   \n",
            "3              13      card  28.90      Americano   Afternoon     Fri   \n",
            "4              13      card  38.70          Latte   Afternoon     Fri   \n",
            "...           ...       ...    ...            ...         ...     ...   \n",
            "3542           10      card  35.76     Cappuccino     Morning     Sun   \n",
            "3543           14      card  35.76          Cocoa   Afternoon     Sun   \n",
            "3544           14      card  35.76          Cocoa   Afternoon     Sun   \n",
            "3545           15      card  25.96      Americano   Afternoon     Sun   \n",
            "3546           18      card  35.76          Latte       Night     Sun   \n",
            "\n",
            "     Month_name  Weekdaysort  Monthsort        Date             Time  \n",
            "0           Mar            5          3  2024-03-01  10:15:50.520000  \n",
            "1           Mar            5          3  2024-03-01  12:19:22.539000  \n",
            "2           Mar            5          3  2024-03-01  12:20:18.089000  \n",
            "3           Mar            5          3  2024-03-01  13:46:33.006000  \n",
            "4           Mar            5          3  2024-03-01  13:48:14.626000  \n",
            "...         ...          ...        ...         ...              ...  \n",
            "3542        Mar            7          3  2025-03-23  10:34:54.894000  \n",
            "3543        Mar            7          3  2025-03-23  14:43:37.362000  \n",
            "3544        Mar            7          3  2025-03-23  14:44:16.864000  \n",
            "3545        Mar            7          3  2025-03-23  15:47:28.723000  \n",
            "3546        Mar            7          3  2025-03-23  18:11:38.635000  \n",
            "\n",
            "[3547 rows x 11 columns]\n"
          ]
        }
      ]
    }
  ]
}